{
  "cells": [
    {
      "cell_type": "markdown",
      "metadata": {
        "id": "yD8FxUs-W_ej"
      },
      "source": [
        "<center>\n",
        "    <img src=\"https://cf-courses-data.s3.us.cloud-object-storage.appdomain.cloud/IBMDeveloperSkillsNetwork-DS0105EN-SkillsNetwork/labs/Module2/images/SN_web_lightmode.png\" width=\"300\" alt=\"cognitiveclass.ai logo\"  />\n",
        "</center>\n"
      ]
    },
    {
      "cell_type": "markdown",
      "metadata": {
        "id": "PJ1Y35ZUW_em"
      },
      "source": [
        "#### Add your code below following the instructions given in the course\n"
      ]
    },
    {
      "cell_type": "markdown",
      "source": [
        "# My Jupyter Notebook on IBM Watson Studio"
      ],
      "metadata": {
        "id": "faPBsvQsYNEt"
      }
    },
    {
      "cell_type": "markdown",
      "source": [
        "# **McNstein Laurence**\n",
        "\n",
        "Data Scientist"
      ],
      "metadata": {
        "id": "vlpeGwBWYnSR"
      }
    },
    {
      "cell_type": "markdown",
      "source": [
        "*1. I am interested in data science because because it is an interesting field that involves using data to solve real world problems.*\n",
        "\n",
        "*2. I am interested in data science because it helps me to try out innovative ways of solving problems.*"
      ],
      "metadata": {
        "id": "klILCy-HaCmB"
      }
    },
    {
      "cell_type": "markdown",
      "source": [
        "### In cell 5, the code is meant to add two numbers and print out the sum of both numbers."
      ],
      "metadata": {
        "id": "leFhcX-iaqB-"
      }
    },
    {
      "cell_type": "code",
      "source": [
        "a = 1\n",
        "b = 1\n",
        "c = a+b\n",
        "print(c)"
      ],
      "metadata": {
        "colab": {
          "base_uri": "https://localhost:8080/"
        },
        "id": "UfxuPbGcYLkF",
        "outputId": "7e744c5e-5a53-464e-e294-c146637b920d"
      },
      "execution_count": 3,
      "outputs": [
        {
          "output_type": "stream",
          "name": "stdout",
          "text": [
            "2\n"
          ]
        }
      ]
    },
    {
      "cell_type": "markdown",
      "source": [
        "> Blockquotes are very handy and interesting in email to emulate reply text.\n",
        "> This line is part of the same quote.\n",
        "> Thank you for your time\n",
        "\n",
        "Quote break here.\n",
        "\n",
        "> Continuetion of quote"
      ],
      "metadata": {
        "id": "DJgbH9QCcqZW"
      }
    },
    {
      "cell_type": "markdown",
      "source": [
        "Hello there...\n",
        "\n",
        "---\n",
        "\n",
        "Hyphens here\n",
        "\n",
        "***\n",
        "\n",
        "Asterisks here too\n",
        "\n",
        "___\n",
        "\n",
        "Underscores take this position"
      ],
      "metadata": {
        "id": "P4dxFx9UdMm2"
      }
    },
    {
      "cell_type": "markdown",
      "source": [
        "Here's our logo (hover to see the title text):\n",
        "\n",
        "Inline-style: \n",
        "## ![alt text](https://www.freshnessmag.com/.image/c_limit%2Ccs_srgb%2Cq_auto:good%2Cw_570/MTM1OTgxMTgwNjM3OTc3MDU0/marvel-announces-their-new-spider-man---0.webp \"Logo Title Text 1\")\n",
        "\n",
        "Reference-style: \n",
        "![alt text][logo]\n",
        "\n",
        "[logo]: https://image-cdn.essentiallysports.com/wp-content/uploads/20200922124332/Spider-ManPanoramaHero.jpg?width=900 \"Logo Title Text 2\""
      ],
      "metadata": {
        "id": "i6-Lhh5peBJv"
      }
    }
  ],
  "metadata": {
    "kernelspec": {
      "display_name": "Python 3",
      "language": "python",
      "name": "python3"
    },
    "language_info": {
      "codemirror_mode": {
        "name": "ipython",
        "version": 3
      },
      "file_extension": ".py",
      "mimetype": "text/x-python",
      "name": "python",
      "nbconvert_exporter": "python",
      "pygments_lexer": "ipython3",
      "version": "3.7.6"
    },
    "colab": {
      "provenance": [],
      "toc_visible": true
    }
  },
  "nbformat": 4,
  "nbformat_minor": 0
}